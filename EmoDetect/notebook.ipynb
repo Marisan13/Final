{
 "cells": [
  {
   "cell_type": "markdown",
   "id": "358d7d7d",
   "metadata": {},
   "source": [
    "# TEXT EMOTION PREDICTION"
   ]
  },
  {
   "cell_type": "code",
   "execution_count": 1,
   "id": "616dbc07",
   "metadata": {},
   "outputs": [
    {
     "name": "stdout",
     "output_type": "stream",
     "text": [
      "Requirement already satisfied: text_hammer in c:\\users\\mkcor\\anaconda3\\lib\\site-packages (0.1.5)\n",
      "Requirement already satisfied: beautifulsoup4==4.9.1 in c:\\users\\mkcor\\anaconda3\\lib\\site-packages (from text_hammer) (4.9.1)\n",
      "Requirement already satisfied: pandas in c:\\users\\mkcor\\anaconda3\\lib\\site-packages (from text_hammer) (1.5.3)\n",
      "Requirement already satisfied: numpy in c:\\users\\mkcor\\anaconda3\\lib\\site-packages (from text_hammer) (1.24.3)\n",
      "Requirement already satisfied: spacy in c:\\users\\mkcor\\anaconda3\\lib\\site-packages (from text_hammer) (3.7.2)\n",
      "Requirement already satisfied: TextBlob in c:\\users\\mkcor\\anaconda3\\lib\\site-packages (from text_hammer) (0.17.1)\n",
      "Requirement already satisfied: soupsieve>1.2 in c:\\users\\mkcor\\anaconda3\\lib\\site-packages (from beautifulsoup4==4.9.1->text_hammer) (2.4)\n",
      "Requirement already satisfied: python-dateutil>=2.8.1 in c:\\users\\mkcor\\anaconda3\\lib\\site-packages (from pandas->text_hammer) (2.8.2)\n",
      "Requirement already satisfied: pytz>=2020.1 in c:\\users\\mkcor\\anaconda3\\lib\\site-packages (from pandas->text_hammer) (2022.7)\n",
      "Requirement already satisfied: spacy-legacy<3.1.0,>=3.0.11 in c:\\users\\mkcor\\anaconda3\\lib\\site-packages (from spacy->text_hammer) (3.0.12)\n",
      "Requirement already satisfied: spacy-loggers<2.0.0,>=1.0.0 in c:\\users\\mkcor\\anaconda3\\lib\\site-packages (from spacy->text_hammer) (1.0.5)\n",
      "Requirement already satisfied: murmurhash<1.1.0,>=0.28.0 in c:\\users\\mkcor\\anaconda3\\lib\\site-packages (from spacy->text_hammer) (1.0.10)\n",
      "Requirement already satisfied: cymem<2.1.0,>=2.0.2 in c:\\users\\mkcor\\anaconda3\\lib\\site-packages (from spacy->text_hammer) (2.0.8)\n",
      "Requirement already satisfied: preshed<3.1.0,>=3.0.2 in c:\\users\\mkcor\\anaconda3\\lib\\site-packages (from spacy->text_hammer) (3.0.9)\n",
      "Requirement already satisfied: thinc<8.3.0,>=8.1.8 in c:\\users\\mkcor\\anaconda3\\lib\\site-packages (from spacy->text_hammer) (8.2.1)\n",
      "Requirement already satisfied: wasabi<1.2.0,>=0.9.1 in c:\\users\\mkcor\\anaconda3\\lib\\site-packages (from spacy->text_hammer) (1.1.2)\n",
      "Requirement already satisfied: srsly<3.0.0,>=2.4.3 in c:\\users\\mkcor\\anaconda3\\lib\\site-packages (from spacy->text_hammer) (2.4.8)\n",
      "Requirement already satisfied: catalogue<2.1.0,>=2.0.6 in c:\\users\\mkcor\\anaconda3\\lib\\site-packages (from spacy->text_hammer) (2.0.10)\n",
      "Requirement already satisfied: weasel<0.4.0,>=0.1.0 in c:\\users\\mkcor\\anaconda3\\lib\\site-packages (from spacy->text_hammer) (0.3.4)\n",
      "Requirement already satisfied: typer<0.10.0,>=0.3.0 in c:\\users\\mkcor\\anaconda3\\lib\\site-packages (from spacy->text_hammer) (0.9.0)\n",
      "Requirement already satisfied: smart-open<7.0.0,>=5.2.1 in c:\\users\\mkcor\\anaconda3\\lib\\site-packages (from spacy->text_hammer) (5.2.1)\n",
      "Requirement already satisfied: tqdm<5.0.0,>=4.38.0 in c:\\users\\mkcor\\anaconda3\\lib\\site-packages (from spacy->text_hammer) (4.65.0)\n",
      "Requirement already satisfied: requests<3.0.0,>=2.13.0 in c:\\users\\mkcor\\anaconda3\\lib\\site-packages (from spacy->text_hammer) (2.31.0)\n",
      "Requirement already satisfied: pydantic!=1.8,!=1.8.1,<3.0.0,>=1.7.4 in c:\\users\\mkcor\\anaconda3\\lib\\site-packages (from spacy->text_hammer) (1.10.12)\n",
      "Requirement already satisfied: jinja2 in c:\\users\\mkcor\\anaconda3\\lib\\site-packages (from spacy->text_hammer) (3.1.2)\n",
      "Requirement already satisfied: setuptools in c:\\users\\mkcor\\anaconda3\\lib\\site-packages (from spacy->text_hammer) (67.8.0)\n",
      "Requirement already satisfied: packaging>=20.0 in c:\\users\\mkcor\\anaconda3\\lib\\site-packages (from spacy->text_hammer) (23.0)\n",
      "Requirement already satisfied: langcodes<4.0.0,>=3.2.0 in c:\\users\\mkcor\\anaconda3\\lib\\site-packages (from spacy->text_hammer) (3.3.0)\n",
      "Requirement already satisfied: nltk>=3.1 in c:\\users\\mkcor\\anaconda3\\lib\\site-packages (from TextBlob->text_hammer) (3.7)\n",
      "Requirement already satisfied: click in c:\\users\\mkcor\\anaconda3\\lib\\site-packages (from nltk>=3.1->TextBlob->text_hammer) (8.0.4)\n",
      "Requirement already satisfied: joblib in c:\\users\\mkcor\\anaconda3\\lib\\site-packages (from nltk>=3.1->TextBlob->text_hammer) (1.2.0)\n",
      "Requirement already satisfied: regex>=2021.8.3 in c:\\users\\mkcor\\anaconda3\\lib\\site-packages (from nltk>=3.1->TextBlob->text_hammer) (2022.7.9)\n",
      "Requirement already satisfied: typing-extensions>=4.2.0 in c:\\users\\mkcor\\anaconda3\\lib\\site-packages (from pydantic!=1.8,!=1.8.1,<3.0.0,>=1.7.4->spacy->text_hammer) (4.6.3)\n",
      "Requirement already satisfied: six>=1.5 in c:\\users\\mkcor\\anaconda3\\lib\\site-packages (from python-dateutil>=2.8.1->pandas->text_hammer) (1.16.0)\n",
      "Requirement already satisfied: charset-normalizer<4,>=2 in c:\\users\\mkcor\\anaconda3\\lib\\site-packages (from requests<3.0.0,>=2.13.0->spacy->text_hammer) (2.0.4)\n",
      "Requirement already satisfied: idna<4,>=2.5 in c:\\users\\mkcor\\anaconda3\\lib\\site-packages (from requests<3.0.0,>=2.13.0->spacy->text_hammer) (2.10)\n",
      "Requirement already satisfied: urllib3<3,>=1.21.1 in c:\\users\\mkcor\\anaconda3\\lib\\site-packages (from requests<3.0.0,>=2.13.0->spacy->text_hammer) (1.26.16)\n",
      "Requirement already satisfied: certifi>=2017.4.17 in c:\\users\\mkcor\\anaconda3\\lib\\site-packages (from requests<3.0.0,>=2.13.0->spacy->text_hammer) (2023.7.22)\n",
      "Requirement already satisfied: blis<0.8.0,>=0.7.8 in c:\\users\\mkcor\\anaconda3\\lib\\site-packages (from thinc<8.3.0,>=8.1.8->spacy->text_hammer) (0.7.11)\n",
      "Requirement already satisfied: confection<1.0.0,>=0.0.1 in c:\\users\\mkcor\\anaconda3\\lib\\site-packages (from thinc<8.3.0,>=8.1.8->spacy->text_hammer) (0.1.4)\n",
      "Requirement already satisfied: colorama in c:\\users\\mkcor\\anaconda3\\lib\\site-packages (from tqdm<5.0.0,>=4.38.0->spacy->text_hammer) (0.4.6)\n",
      "Requirement already satisfied: cloudpathlib<0.17.0,>=0.7.0 in c:\\users\\mkcor\\anaconda3\\lib\\site-packages (from weasel<0.4.0,>=0.1.0->spacy->text_hammer) (0.16.0)\n",
      "Requirement already satisfied: MarkupSafe>=2.0 in c:\\users\\mkcor\\anaconda3\\lib\\site-packages (from jinja2->spacy->text_hammer) (2.1.1)\n"
     ]
    }
   ],
   "source": [
    "!pip install text_hammer"
   ]
  },
  {
   "cell_type": "code",
   "execution_count": 2,
   "metadata": {},
   "outputs": [],
   "source": [
    "import pandas as pd\n",
    "import numpy as np\n",
    "import text_hammer as th\n",
    "import re\n",
    "\n",
    "import matplotlib.pyplot as plt\n",
    "import seaborn as sns\n"
   ]
  },
  {
   "cell_type": "markdown",
   "id": "09a7ea18",
   "metadata": {},
   "source": [
    "### Loading the dataset"
   ]
  },
  {
   "cell_type": "code",
   "execution_count": 3,
   "id": "d2fdf46d",
   "metadata": {},
   "outputs": [],
   "source": [
    "train_ds = pd.read_csv('emotions-dataset-for-nlp/train.txt', header=None, sep=';', names=['text', 'sentiment'], encoding='ISO-8859-1')\n",
    "val_ds = pd.read_csv('emotions-dataset-for-nlp/val.txt', header=None, sep=';', names=['text', 'sentiment'], encoding='ISO-8859-1')\n",
    "test_ds = pd.read_csv('emotions-dataset-for-nlp/test.txt', header=None, sep=';', names=['text', 'sentiment'], encoding='ISO-8859-1')"
   ]
  },
  {
   "cell_type": "code",
   "execution_count": 4,
   "id": "4841dd0f",
   "metadata": {
    "scrolled": true
   },
   "outputs": [
    {
     "data": {
      "text/html": [
       "<div>\n",
       "<style scoped>\n",
       "    .dataframe tbody tr th:only-of-type {\n",
       "        vertical-align: middle;\n",
       "    }\n",
       "\n",
       "    .dataframe tbody tr th {\n",
       "        vertical-align: top;\n",
       "    }\n",
       "\n",
       "    .dataframe thead th {\n",
       "        text-align: right;\n",
       "    }\n",
       "</style>\n",
       "<table border=\"1\" class=\"dataframe\">\n",
       "  <thead>\n",
       "    <tr style=\"text-align: right;\">\n",
       "      <th></th>\n",
       "      <th>text</th>\n",
       "      <th>sentiment</th>\n",
       "    </tr>\n",
       "  </thead>\n",
       "  <tbody>\n",
       "    <tr>\n",
       "      <th>0</th>\n",
       "      <td>i didnt feel humiliated</td>\n",
       "      <td>sadness</td>\n",
       "    </tr>\n",
       "    <tr>\n",
       "      <th>1</th>\n",
       "      <td>i can go from feeling so hopeless to so damned...</td>\n",
       "      <td>sadness</td>\n",
       "    </tr>\n",
       "    <tr>\n",
       "      <th>2</th>\n",
       "      <td>im grabbing a minute to post i feel greedy wrong</td>\n",
       "      <td>anger</td>\n",
       "    </tr>\n",
       "    <tr>\n",
       "      <th>3</th>\n",
       "      <td>i am ever feeling nostalgic about the fireplac...</td>\n",
       "      <td>love</td>\n",
       "    </tr>\n",
       "    <tr>\n",
       "      <th>4</th>\n",
       "      <td>i am feeling grouchy</td>\n",
       "      <td>anger</td>\n",
       "    </tr>\n",
       "  </tbody>\n",
       "</table>\n",
       "</div>"
      ],
      "text/plain": [
       "                                                text sentiment\n",
       "0                            i didnt feel humiliated   sadness\n",
       "1  i can go from feeling so hopeless to so damned...   sadness\n",
       "2   im grabbing a minute to post i feel greedy wrong     anger\n",
       "3  i am ever feeling nostalgic about the fireplac...      love\n",
       "4                               i am feeling grouchy     anger"
      ]
     },
     "execution_count": 4,
     "metadata": {},
     "output_type": "execute_result"
    }
   ],
   "source": [
    "train_ds.head()"
   ]
  },
  {
   "cell_type": "code",
   "execution_count": 5,
   "metadata": {},
   "outputs": [
    {
     "data": {
      "image/png": "[encoded data removed]",
      "text/plain": [
       "<Figure size 800x640 with 1 Axes>"
      ]
     },
     "metadata": {},
     "output_type": "display_data"
    }
   ],
   "source": [
    "# Confirm the balance\n",
    "\n",
    "fig = plt.figure(figsize=(5,4), dpi=160)\n",
    "sns.countplot(x='sentiment', data=train_ds)\n",
    "plt.title('Emotion classes')\n",
    "plt.xlabel('Emotions')\n",
    "plt.ylabel('Counts')\n",
    "plt.show()"
   ]
  },
  {
   "cell_type": "code",
   "execution_count": 6,
   "metadata": {},
   "outputs": [],
   "source": [
    "# Calculatin weight in order to manage imbalanced data for prediction >>> not used as there is almost no impact to the result.\n",
    "\n",
    "#class_samples = train_ds[\"sentiment\"].value_counts().to_dict()\n",
    "#max_samples = max(class_samples.values())  \n",
    "\n",
    "#class_weights = {cls: max_samples / count for cls, count in class_samples.items()}\n",
    "#print(class_weights)"
   ]
  },
  {
   "cell_type": "code",
   "execution_count": 7,
   "id": "0b224913",
   "metadata": {},
   "outputs": [],
   "source": [
    "## Concatinate the vector data\n",
    "data_full = pd.concat([train_ds, val_ds, test_ds], axis=0)"
   ]
  },
  {
   "cell_type": "code",
   "execution_count": 8,
   "id": "55053732",
   "metadata": {},
   "outputs": [
    {
     "name": "stdout",
     "output_type": "stream",
     "text": [
      "<class 'pandas.core.frame.DataFrame'>\n",
      "Int64Index: 20000 entries, 0 to 1999\n",
      "Data columns (total 2 columns):\n",
      " #   Column     Non-Null Count  Dtype \n",
      "---  ------     --------------  ----- \n",
      " 0   text       20000 non-null  object\n",
      " 1   sentiment  20000 non-null  object\n",
      "dtypes: object(2)\n",
      "memory usage: 468.8+ KB\n"
     ]
    }
   ],
   "source": [
    "# Confirm the nulls, types.\n",
    "data_full.info()"
   ]
  },
  {
   "cell_type": "markdown",
   "id": "6e44cdbf",
   "metadata": {},
   "source": [
    "### Data pre-processing"
   ]
  },
  {
   "cell_type": "code",
   "execution_count": 9,
   "id": "c1175202",
   "metadata": {},
   "outputs": [
    {
     "name": "stdout",
     "output_type": "stream",
     "text": [
      "CPU times: total: 0 ns\n",
      "Wall time: 0 ns\n"
     ]
    }
   ],
   "source": [
    "%%time\n",
    "\n",
    "def text_preprocessing(dataset, colname):\n",
    "    try:\n",
    "        dataset[colname] = dataset[colname].progress_apply(lambda x: str(x).lower())\n",
    "        dataset[colname] = dataset[colname].progress_apply(lambda x: th.cont_exp(x))\n",
    "        dataset[colname] = dataset[colname].progress_apply(lambda x: th.remove_emails(x))\n",
    "        dataset[colname] = dataset[colname].progress_apply(lambda x: re.sub(r'(@[A-Za-z0-9]+)|([^0-9A-Za-z \\t])|(\\w+:\\/\\/\\S+)', \" \", x))\n",
    "        dataset[colname] = dataset[colname].progress_apply(lambda x: th.remove_html_tags(x))\n",
    "        dataset[colname] = dataset[colname].progress_apply(lambda x: th.remove_special_chars(x))\n",
    "        dataset[colname] = dataset[colname].progress_apply(lambda x: th.remove_accented_chars(x))\n",
    "        \n",
    "        return dataset\n",
    "    except ValueError as ve:\n",
    "        print(f\"Exception during text preprocessing {ve}\")"
   ]
  },
  {
   "cell_type": "code",
   "execution_count": 10,
   "id": "89bff967",
   "metadata": {},
   "outputs": [
    {
     "data": {
      "application/vnd.jupyter.widget-view+json": {
       "model_id": "52c85a51f5cb41d59f3b4729eaeea2b7",
       "version_major": 2,
       "version_minor": 0
      },
      "text/plain": [
       "  0%|          | 0/20000 [00:00<?, ?it/s]"
      ]
     },
     "metadata": {},
     "output_type": "display_data"
    },
    {
     "data": {
      "application/vnd.jupyter.widget-view+json": {
       "model_id": "4056c373bc884314a637c5d64ed04ccb",
       "version_major": 2,
       "version_minor": 0
      },
      "text/plain": [
       "  0%|          | 0/20000 [00:00<?, ?it/s]"
      ]
     },
     "metadata": {},
     "output_type": "display_data"
    },
    {
     "data": {
      "application/vnd.jupyter.widget-view+json": {
       "model_id": "ca5ff593c4ca4c0ca5e313b46d499c6b",
       "version_major": 2,
       "version_minor": 0
      },
      "text/plain": [
       "  0%|          | 0/20000 [00:00<?, ?it/s]"
      ]
     },
     "metadata": {},
     "output_type": "display_data"
    },
    {
     "data": {
      "application/vnd.jupyter.widget-view+json": {
       "model_id": "b761c867e10d4c198b2245739a679331",
       "version_major": 2,
       "version_minor": 0
      },
      "text/plain": [
       "  0%|          | 0/20000 [00:00<?, ?it/s]"
      ]
     },
     "metadata": {},
     "output_type": "display_data"
    },
    {
     "data": {
      "application/vnd.jupyter.widget-view+json": {
       "model_id": "03537fdef7e74dd486129253acac417a",
       "version_major": 2,
       "version_minor": 0
      },
      "text/plain": [
       "  0%|          | 0/20000 [00:00<?, ?it/s]"
      ]
     },
     "metadata": {},
     "output_type": "display_data"
    },
    {
     "data": {
      "application/vnd.jupyter.widget-view+json": {
       "model_id": "908e0d2cb182404fba75744fddfd0153",
       "version_major": 2,
       "version_minor": 0
      },
      "text/plain": [
       "  0%|          | 0/20000 [00:00<?, ?it/s]"
      ]
     },
     "metadata": {},
     "output_type": "display_data"
    },
    {
     "data": {
      "application/vnd.jupyter.widget-view+json": {
       "model_id": "ba79171c562b45c6a44f473ef3cbccdb",
       "version_major": 2,
       "version_minor": 0
      },
      "text/plain": [
       "  0%|          | 0/20000 [00:00<?, ?it/s]"
      ]
     },
     "metadata": {},
     "output_type": "display_data"
    }
   ],
   "source": [
    "data_full = text_preprocessing(data_full, 'text')"
   ]
  },
  {
   "cell_type": "code",
   "execution_count": 11,
   "id": "18b8f2f0",
   "metadata": {},
   "outputs": [],
   "source": [
    "## Encoding the sentiment values into numeric codes\n",
    "data_full['sentiment'] = data_full.sentiment.astype('category')\n",
    "data_full['sentiment_code'] = data_full.sentiment.cat.codes"
   ]
  },
  {
   "cell_type": "code",
   "execution_count": 12,
   "id": "ecdaf676",
   "metadata": {},
   "outputs": [],
   "source": [
    "## Label encoding\n",
    "encoded_labels = {'anger': 0, 'fear': 1, 'joy': 2, 'love': 3, 'sadness': 4, 'surprise': 5}"
   ]
  },
  {
   "cell_type": "code",
   "execution_count": 13,
   "metadata": {},
   "outputs": [
    {
     "data": {
      "text/html": [
       "<div>\n",
       "<style scoped>\n",
       "    .dataframe tbody tr th:only-of-type {\n",
       "        vertical-align: middle;\n",
       "    }\n",
       "\n",
       "    .dataframe tbody tr th {\n",
       "        vertical-align: top;\n",
       "    }\n",
       "\n",
       "    .dataframe thead th {\n",
       "        text-align: right;\n",
       "    }\n",
       "</style>\n",
       "<table border=\"1\" class=\"dataframe\">\n",
       "  <thead>\n",
       "    <tr style=\"text-align: right;\">\n",
       "      <th></th>\n",
       "      <th>text</th>\n",
       "      <th>sentiment</th>\n",
       "      <th>sentiment_code</th>\n",
       "    </tr>\n",
       "  </thead>\n",
       "  <tbody>\n",
       "    <tr>\n",
       "      <th>0</th>\n",
       "      <td>i didnt feel humiliated</td>\n",
       "      <td>sadness</td>\n",
       "      <td>4</td>\n",
       "    </tr>\n",
       "    <tr>\n",
       "      <th>1</th>\n",
       "      <td>i can go from feeling so hopeless to so damned...</td>\n",
       "      <td>sadness</td>\n",
       "      <td>4</td>\n",
       "    </tr>\n",
       "    <tr>\n",
       "      <th>2</th>\n",
       "      <td>im grabbing a minute to post i feel greedy wrong</td>\n",
       "      <td>anger</td>\n",
       "      <td>0</td>\n",
       "    </tr>\n",
       "    <tr>\n",
       "      <th>3</th>\n",
       "      <td>i am ever feeling nostalgic about the fireplac...</td>\n",
       "      <td>love</td>\n",
       "      <td>3</td>\n",
       "    </tr>\n",
       "    <tr>\n",
       "      <th>4</th>\n",
       "      <td>i am feeling grouchy</td>\n",
       "      <td>anger</td>\n",
       "      <td>0</td>\n",
       "    </tr>\n",
       "  </tbody>\n",
       "</table>\n",
       "</div>"
      ],
      "text/plain": [
       "                                                text sentiment  sentiment_code\n",
       "0                            i didnt feel humiliated   sadness               4\n",
       "1  i can go from feeling so hopeless to so damned...   sadness               4\n",
       "2   im grabbing a minute to post i feel greedy wrong     anger               0\n",
       "3  i am ever feeling nostalgic about the fireplac...      love               3\n",
       "4                               i am feeling grouchy     anger               0"
      ]
     },
     "execution_count": 13,
     "metadata": {},
     "output_type": "execute_result"
    }
   ],
   "source": [
    "data_full.head()"
   ]
  },
  {
   "cell_type": "markdown",
   "id": "5a61757d",
   "metadata": {},
   "source": [
    "### Splitting data into input variables and target variable"
   ]
  },
  {
   "cell_type": "code",
   "execution_count": 14,
   "id": "d2568bf5",
   "metadata": {},
   "outputs": [],
   "source": [
    "from sklearn.model_selection import train_test_split"
   ]
  },
  {
   "cell_type": "code",
   "execution_count": 19,
   "metadata": {},
   "outputs": [],
   "source": [
    "X_train_full, X_val, y_train_full, y_val = train_test_split(data_full['text'].tolist(), \n",
    "                                                 data_full['sentiment_code'].tolist(),\n",
    "                                                 test_size=0.2,\n",
    "                                                 stratify=data_full['sentiment_code'].tolist(),\n",
    "                                                 random_state=42)\n",
    "\n",
    "X_train, X_test, y_train, y_test = train_test_split(X_train_full, y_train_full, test_size=0.2,\n",
    "                                                   stratify=y_train_full, random_state=42)"
   ]
  },
  {
   "cell_type": "code",
   "execution_count": 20,
   "metadata": {},
   "outputs": [
    {
     "data": {
      "text/plain": [
       "['vectorizer.pkl']"
      ]
     },
     "execution_count": 20,
     "metadata": {},
     "output_type": "execute_result"
    }
   ],
   "source": [
    "from sklearn.feature_extraction.text import TfidfVectorizer\n",
    "\n",
    "# Vectorization using TF-IDF\n",
    "vectorizer = TfidfVectorizer()\n",
    "X_train_vectorized = vectorizer.fit_transform(X_train)\n",
    "X_test_vectorized = vectorizer.transform(X_test)\n",
    "\n",
    "import joblib\n",
    "joblib.dump(vectorizer, 'vectorizer.pkl')"
   ]
  },
  {
   "cell_type": "markdown",
   "metadata": {},
   "source": [
    "**Logistic Regression**"
   ]
  },
  {
   "cell_type": "code",
   "execution_count": 25,
   "metadata": {},
   "outputs": [
    {
     "name": "stdout",
     "output_type": "stream",
     "text": [
      "[4 2 4 ... 4 2 1]\n",
      "<class 'numpy.ndarray'>\n",
      "Accuracy: 0.8425 0.931640625\n"
     ]
    },
    {
     "name": "stderr",
     "output_type": "stream",
     "text": [
      "c:\\Users\\mkcor\\anaconda3\\Lib\\site-packages\\sklearn\\linear_model\\_logistic.py:458: ConvergenceWarning: lbfgs failed to converge (status=1):\n",
      "STOP: TOTAL NO. of ITERATIONS REACHED LIMIT.\n",
      "\n",
      "Increase the number of iterations (max_iter) or scale the data as shown in:\n",
      "    https://scikit-learn.org/stable/modules/preprocessing.html\n",
      "Please also refer to the documentation for alternative solver options:\n",
      "    https://scikit-learn.org/stable/modules/linear_model.html#logistic-regression\n",
      "  n_iter_i = _check_optimize_result(\n"
     ]
    }
   ],
   "source": [
    "from sklearn.linear_model import LogisticRegression\n",
    "from sklearn.metrics import accuracy_score\n",
    "\n",
    "# Initializing and training Logistic Regression model\n",
    "lr_model = LogisticRegression()\n",
    "lr_model.fit(X_train_vectorized, y_train)\n",
    "\n",
    "# Predicting on test set\n",
    "predictions = lr_model.predict(X_test_vectorized)\n",
    "predictions_tr = lr_model.predict(X_train_vectorized)\n",
    "print(predictions)\n",
    "print(type(predictions))\n",
    "\n",
    "# Evaluating model performance\n",
    "accuracy = accuracy_score(y_test, predictions)\n",
    "accuracy_tr = accuracy_score(y_train, predictions_tr)\n",
    "print(\"Accuracy:\", accuracy, accuracy_tr)"
   ]
  },
  {
   "cell_type": "markdown",
   "id": "0be53a4f",
   "metadata": {},
   "source": [
    "**SVM**"
   ]
  },
  {
   "cell_type": "code",
   "execution_count": 22,
   "metadata": {},
   "outputs": [
    {
     "name": "stdout",
     "output_type": "stream",
     "text": [
      "Accuracy: 0.8440625 0.985703125\n"
     ]
    }
   ],
   "source": [
    "from sklearn.svm import SVC\n",
    "\n",
    "# Initializing and training Logistic Regression model\n",
    "svc_model = SVC(kernel = 'rbf', C = 1, class_weight='balanced')\n",
    "svc_model.fit(X_train_vectorized, y_train)\n",
    "\n",
    "# Predicting on test set\n",
    "predictions = svc_model.predict(X_test_vectorized)\n",
    "predictions_tr = svc_model.predict(X_train_vectorized)\n",
    "\n",
    "# Evaluating model performance\n",
    "accuracy = accuracy_score(y_test, predictions)\n",
    "accuracy_tr = accuracy_score(y_train, predictions_tr)\n",
    "print(\"Accuracy:\", accuracy, accuracy_tr) "
   ]
  },
  {
   "cell_type": "markdown",
   "metadata": {},
   "source": [
    "**Random Forest**"
   ]
  },
  {
   "cell_type": "code",
   "execution_count": 23,
   "metadata": {},
   "outputs": [
    {
     "name": "stdout",
     "output_type": "stream",
     "text": [
      "Accuracy: 0.7915625 0.993984375\n"
     ]
    }
   ],
   "source": [
    "from sklearn.ensemble import RandomForestClassifier\n",
    "\n",
    "# Initializing and training Logistic Regression model\n",
    "rf_model = RandomForestClassifier(n_estimators=10,max_depth=None)\n",
    "rf_model.fit(X_train_vectorized, y_train)\n",
    "\n",
    "# Predicting on test set\n",
    "predictions = rf_model.predict(X_test_vectorized)\n",
    "predictions_tr = rf_model.predict(X_train_vectorized)\n",
    "\n",
    "# Evaluating model performance\n",
    "accuracy = accuracy_score(y_test, predictions)\n",
    "accuracy_tr = accuracy_score(y_train, predictions_tr)\n",
    "print(\"Accuracy:\", accuracy, accuracy_tr)"
   ]
  },
  {
   "cell_type": "markdown",
   "id": "30ac497a",
   "metadata": {},
   "source": [
    "### Saving the model - Apply the RogisticRegression Model (Least Overfitting)"
   ]
  },
  {
   "cell_type": "code",
   "execution_count": 24,
   "id": "ed05d1fc",
   "metadata": {},
   "outputs": [],
   "source": [
    "import joblib\n",
    "pipeline_file = open(\"text_model_lr.pkl\",\"wb\")\n",
    "joblib.dump(lr_model,pipeline_file)\n",
    "pipeline_file.close()"
   ]
  }
 ],
 "metadata": {
  "kernelspec": {
   "display_name": "Python 3 (ipykernel)",
   "language": "python",
   "name": "python3"
  },
  "language_info": {
   "codemirror_mode": {
    "name": "ipython",
    "version": 3
   },
   "file_extension": ".py",
   "mimetype": "text/x-python",
   "name": "python",
   "nbconvert_exporter": "python",
   "pygments_lexer": "ipython3",
   "version": "3.11.3"
  }
 },
 "nbformat": 4,
 "nbformat_minor": 5
}
